{
 "cells": [
  {
   "cell_type": "code",
   "execution_count": 1,
   "metadata": {},
   "outputs": [],
   "source": [
    "import numpy as np"
   ]
  },
  {
   "cell_type": "markdown",
   "metadata": {},
   "source": [
    "# Questions 1:\n",
    "Create a numpy array starting from 2 till 50 with a stepsize of 3."
   ]
  },
  {
   "cell_type": "code",
   "execution_count": 2,
   "metadata": {},
   "outputs": [
    {
     "name": "stdout",
     "output_type": "stream",
     "text": [
      "[ 2  5  8 11 14 17 20 23 26 29 32 35 38 41 44 47 50]\n"
     ]
    }
   ],
   "source": [
    "a1 = np.arange(2,51,3)\n",
    "print(a1)"
   ]
  },
  {
   "cell_type": "markdown",
   "metadata": {},
   "source": [
    "# Questions 2:\n",
    "Accept two lists of 5 elements each from the user.\n",
    "Convert them to numpy arrays. Concatenate these arrays and print it. Also sort these arrays and print it."
   ]
  },
  {
   "cell_type": "code",
   "execution_count": 3,
   "metadata": {},
   "outputs": [
    {
     "name": "stdout",
     "output_type": "stream",
     "text": [
      " 1 2 3 4 5 6 \n",
      "9 8 7 6 5 4\n",
      "Array after Concatenation: [1 2 3 4 5 6 9 8 7 6 5 4]\n",
      "Sorted: [1 2 3 4 4 5 5 6 6 7 8 9]\n"
     ]
    }
   ],
   "source": [
    "l1 = list(map(int,input().split()))\n",
    "l2 = list(map(int,input().split()))\n",
    "a1 = np.array(l1)\n",
    "a2 = np.array(l2)\n",
    "a3 = np.concatenate((a1,a2))\n",
    "print(\"Array after Concatenation:\",a3)\n",
    "print(\"Sorted:\",np.sort(a3))"
   ]
  },
  {
   "cell_type": "markdown",
   "metadata": {},
   "source": [
    "# Questions 3:\n",
    "Write a code snippet to find the dimensions of a ndarray and its size."
   ]
  },
  {
   "cell_type": "code",
   "execution_count": 4,
   "metadata": {},
   "outputs": [
    {
     "name": "stdout",
     "output_type": "stream",
     "text": [
      "[[ 1  2  3]\n",
      " [ 4  5  6]\n",
      " [ 7  8  9]\n",
      " [10 11 12]]\n",
      "Dimension: 2\n",
      "Size: 12\n"
     ]
    }
   ],
   "source": [
    "a1 = np.array(([1,2,3],[4,5,6],[7,8,9],[10,11,12]))\n",
    "\n",
    "print(a1)\n",
    "\n",
    "print(\"Dimension:\",a1.ndim)\n",
    "\n",
    "print(\"Size:\",a1.size)"
   ]
  },
  {
   "cell_type": "markdown",
   "metadata": {},
   "source": [
    "# Questions 4:\n",
    "\n",
    "How to convert a 1D array into a 2D array? Demonstrate with the help of a code snippet\n",
    "Hint: np.newaxis, np.expand_dims"
   ]
  },
  {
   "cell_type": "markdown",
   "metadata": {},
   "source": [
    "Ans: To convert a 1D array into 2D array numpy functions can be used like expand_dims,newaxis and reshape. Given below are all the three implementations"
   ]
  },
  {
   "cell_type": "code",
   "execution_count": 6,
   "metadata": {},
   "outputs": [
    {
     "name": "stdout",
     "output_type": "stream",
     "text": [
      "Dimension of array 1: 1\n",
      "Dimension of Array 2: 2\n",
      "Dimension of Array 3: 2\n",
      "Dimension of Array 4: 2\n"
     ]
    }
   ],
   "source": [
    "a1 = np.arange(1,13)\n",
    "print(\"Dimension of array 1:\",a1.ndim)\n",
    "\n",
    "a2 = np.expand_dims(a1, 1)\n",
    "print(\"Dimension of Array 2:\",a2.ndim)\n",
    "\n",
    "a3 = a1[np.newaxis]\n",
    "print(\"Dimension of Array 3:\",a3.ndim)\n",
    "\n",
    "a4 = a1.reshape(-1,2)\n",
    "print(\"Dimension of Array 4:\",a4.ndim)"
   ]
  },
  {
   "cell_type": "markdown",
   "metadata": {},
   "source": [
    "# Questions 5:\n",
    "Consider two square numpy arrays. Stack them vertically and horizontally.\n",
    "Hint: Use vstack(), hstack()"
   ]
  },
  {
   "cell_type": "code",
   "execution_count": 9,
   "metadata": {},
   "outputs": [
    {
     "name": "stdout",
     "output_type": "stream",
     "text": [
      "Array 1:\n",
      "[[1 2 3]\n",
      " [4 5 6]\n",
      " [7 8 9]]\n",
      "Array 2:\n",
      "[[10 11 12]\n",
      " [13 14 15]\n",
      " [16 17 18]]\n",
      "Array 3(Vertical):\n",
      "[[ 1  2  3]\n",
      " [ 4  5  6]\n",
      " [ 7  8  9]\n",
      " [10 11 12]\n",
      " [13 14 15]\n",
      " [16 17 18]]\n",
      "Array 4(Horizontal):\n",
      "[[ 1  2  3 10 11 12]\n",
      " [ 4  5  6 13 14 15]\n",
      " [ 7  8  9 16 17 18]]\n"
     ]
    }
   ],
   "source": [
    "a1 = np.arange(1,10).reshape(3,3)\n",
    "print(\"Array 1:\")\n",
    "print(a1)\n",
    "\n",
    "a2 = np.arange(10,19).reshape(3,3)\n",
    "print(\"Array 2:\")\n",
    "print(a2)\n",
    "\n",
    "a3 = np.vstack((a1,a2))\n",
    "print(\"Array 3(Vertical):\")\n",
    "print(a3)\n",
    "\n",
    "a4 = np.hstack((a1,a2))\n",
    "print(\"Array 4(Horizontal):\")\n",
    "print(a4)"
   ]
  },
  {
   "cell_type": "markdown",
   "metadata": {},
   "source": [
    "# Questions 6:\n",
    "How to get unique items and counts of unique items?"
   ]
  },
  {
   "cell_type": "code",
   "execution_count": 10,
   "metadata": {},
   "outputs": [
    {
     "name": "stdout",
     "output_type": "stream",
     "text": [
      "Unique Elements: [1 2 3 4 5 7 8 9]\n",
      "Unique Count:    [1 2 1 3 3 2 2 1]\n"
     ]
    }
   ],
   "source": [
    "a1 = np.array([1,3,5,2,5,7,4,8,9,5,8,4,2,7,4])\n",
    "un, un_c = np.unique(a1,return_counts=True)\n",
    "print(\"Unique Elements:\", un)\n",
    "print(\"Unique Count:   \",un_c)"
   ]
  },
  {
   "cell_type": "code",
   "execution_count": null,
   "metadata": {},
   "outputs": [],
   "source": []
  }
 ],
 "metadata": {
  "kernelspec": {
   "display_name": "Python 3",
   "language": "python",
   "name": "python3"
  },
  "language_info": {
   "codemirror_mode": {
    "name": "ipython",
    "version": 3
   },
   "file_extension": ".py",
   "mimetype": "text/x-python",
   "name": "python",
   "nbconvert_exporter": "python",
   "pygments_lexer": "ipython3",
   "version": "3.8.3"
  }
 },
 "nbformat": 4,
 "nbformat_minor": 4
}
